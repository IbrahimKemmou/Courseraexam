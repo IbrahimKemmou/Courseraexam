{
 "cells": [
  {
   "cell_type": "markdown",
   "id": "ec64e5cd-dc3d-4b6e-87d4-b0fcd185e5fd",
   "metadata": {},
   "source": [
    "# Data Science Tools and Ecosystem\n"
   ]
  },
  {
   "cell_type": "markdown",
   "id": "5edfd713-a34f-4a8d-a40d-35fa2137d269",
   "metadata": {},
   "source": [
    "In this notebook, Data Science Tools and Ecosystem are summarized."
   ]
  },
  {
   "cell_type": "markdown",
   "id": "beb4c1a0-5fc2-4219-a8d9-ff8e0038937e",
   "metadata": {},
   "source": [
    "Some of the popular languages that Data Scientists use are: Python , R , SQL"
   ]
  },
  {
   "cell_type": "markdown",
   "id": "ae7ed95d-f820-47c0-9c9c-8a839b7188cd",
   "metadata": {},
   "source": [
    "Some of the commonly used libraries used by Data Scientists include:\n",
    "1. NumPy\n",
    "2. Pandas\n",
    "3. Matplotlib"
   ]
  },
  {
   "cell_type": "markdown",
   "id": "e4287b59-894d-4fd0-aa74-641f88e31ddf",
   "metadata": {},
   "source": [
    "| Data Science Tools       |\n",
    "|--------------------------|\n",
    "| Jupyter Notebook         |\n",
    "| RStudio                  |\n",
    "| Apache Zeppelin          |"
   ]
  },
  {
   "cell_type": "markdown",
   "id": "abeed715-990f-47c6-98de-9522cd6d9a6b",
   "metadata": {},
   "source": [
    "### Below are a few examples of evaluating arithmetic expressions in Python.\n"
   ]
  },
  {
   "cell_type": "code",
   "execution_count": 6,
   "id": "1f41f3be-1cd3-4ef9-927b-55a512808052",
   "metadata": {},
   "outputs": [
    {
     "data": {
      "text/plain": [
       "17"
      ]
     },
     "execution_count": 6,
     "metadata": {},
     "output_type": "execute_result"
    }
   ],
   "source": [
    "# This is a simple arithmetic expression to multiply then add integers\n",
    "(3 * 4) + 5\n"
   ]
  },
  {
   "cell_type": "code",
   "execution_count": 7,
   "id": "fa43d77f-4289-4bd4-a806-e7ebe5273ae7",
   "metadata": {},
   "outputs": [
    {
     "data": {
      "text/plain": [
       "3.3333333333333335"
      ]
     },
     "execution_count": 7,
     "metadata": {},
     "output_type": "execute_result"
    }
   ],
   "source": [
    "# This will convert 200 minutes to hours by dividing by 60\n",
    "minutes = 200\n",
    "hours = minutes / 60\n",
    "hours\n"
   ]
  },
  {
   "cell_type": "markdown",
   "id": "05082497-ac57-45f9-9927-3b4890b8ba16",
   "metadata": {},
   "source": [
    "**Objectives:**\n",
    "\n",
    "- List popular languages for Data Science\n",
    "- Describe key libraries used by Data Scientists\n",
    "- Understand the purpose of open-source tools in data science\n",
    "- Demonstrate basic arithmetic and conversion operations in Python\n"
   ]
  },
  {
   "cell_type": "markdown",
   "id": "c4693993-6d07-42dd-a2d2-68e6b514f2aa",
   "metadata": {},
   "source": [
    "## Author\n",
    "Ibrahim Kemmou\n"
   ]
  },
  {
   "cell_type": "code",
   "execution_count": null,
   "id": "ba322dc5-38f0-4e8e-a12d-c7d3a60f9d60",
   "metadata": {},
   "outputs": [],
   "source": []
  }
 ],
 "metadata": {
  "kernelspec": {
   "display_name": "Python 3 (ipykernel)",
   "language": "python",
   "name": "python3"
  },
  "language_info": {
   "codemirror_mode": {
    "name": "ipython",
    "version": 3
   },
   "file_extension": ".py",
   "mimetype": "text/x-python",
   "name": "python",
   "nbconvert_exporter": "python",
   "pygments_lexer": "ipython3",
   "version": "3.11.9"
  }
 },
 "nbformat": 4,
 "nbformat_minor": 5
}
